{
 "cells": [
  {
   "cell_type": "markdown",
   "id": "4ef66238",
   "metadata": {},
   "source": [
    "### Instructions:\n",
    "\n",
    "- You can attempt any number of questions and in any order.  \n",
    "- You may submit this workshop/practical for autograding as many times as you like to check on progress, however you will save time by checking and testing your own code before submitting.\n",
    "- Develop and check your answers in the spaces provided.\n",
    "- **Replace** the `raise NotImplementedError()` or `...` snippets with your solution to the question.\n",
    "- Do **NOT** remove any variables other provided markings already provided in the answer spaces.\n",
    "- Do **NOT** make any changes to this notebook outside of the spaces indicated.  \n",
    "  (If you do this, the submission system might not accept your work)\n",
    "\n",
    "### Submitting:\n",
    "\n",
    "1. Before you turn this problem in, make sure everything runs as expected by resetting this notebook.    \n",
    "   (You can do this from the menubar above by selecting `Kernel`&#8594;`Restart Kernel and Run All Cells...`)\n",
    "1. Don't forget to save your notebook after this step.\n",
    "1. Submit your .ipynb file to Gradescope via file upload or GitHub repository.\n",
    "1. You can submit as many times as needed.\n",
    "1. You **must** give your submitted file the **identical** filename to that which you downloaded without changing **any** aspects - spaces, underscores, capitalisation etc. If your operating system has changed the filename because you downloaded the file twice or more you **must** also fix this.  \n",
    "\n"
   ]
  },
  {
   "cell_type": "markdown",
   "id": "657d6b11",
   "metadata": {},
   "source": [
    "---"
   ]
  },
  {
   "cell_type": "markdown",
   "id": "5ab52153-7322-455d-b535-8dd5cf3b9c85",
   "metadata": {
    "deletable": false,
    "editable": false,
    "nbgrader": {
     "cell_type": "markdown",
     "checksum": "e9dbacb5955ebade392852ce75eccc44",
     "grade": false,
     "grade_id": "title",
     "locked": true,
     "schema_version": 3,
     "solution": false,
     "task": false
    },
    "tags": []
   },
   "source": [
    "# COMP SCI 2009 Programming for IT - W02 Practical"
   ]
  },
  {
   "cell_type": "markdown",
   "id": "12884261-0a60-4b1d-ba2b-6943d052f5d8",
   "metadata": {
    "deletable": false,
    "editable": false,
    "nbgrader": {
     "cell_type": "markdown",
     "checksum": "61eafac42e01055829feb9794b5b3a2c",
     "grade": false,
     "grade_id": "textbox-1",
     "locked": true,
     "schema_version": 3,
     "solution": false,
     "task": false
    },
    "tags": []
   },
   "source": [
    "### Fibonacci sequence\n",
    "---\n",
    "The Fibonacci numbers are `0, 1, 1, 2, 3, 5, 8, 13, 21...`. \n",
    "\n",
    "The formula is `Fn = Fn-1 + Fn-2`, with `F0=0` and `F1=1`. \n",
    "\n",
    "For example,\n",
    "- `F2 = F1 + F0 = 1 + 0 = 1`\n",
    "-  `F3 = F2 + F1 = 1 + 1 = 2`\n",
    "-  `F4 = F3 + F2 = 2 + 1 = 3`\n",
    "- `F5 = F4 + F3 = 3 + 2 = 5`\n",
    "- ..."
   ]
  },
  {
   "cell_type": "markdown",
   "id": "33db1657-01ea-4b27-8f3e-00ae32754106",
   "metadata": {
    "deletable": false,
    "editable": false,
    "nbgrader": {
     "cell_type": "markdown",
     "checksum": "33cb0afb4c04a4ed5185421f11c7634f",
     "grade": false,
     "grade_id": "qu-1",
     "locked": true,
     "schema_version": 3,
     "solution": false,
     "task": false
    },
    "tags": []
   },
   "source": [
    "## Task 1 (25%)\n",
    "Please complete the function `fibo` below that displays Fibonacci number using a **non-recursive** approach"
   ]
  },
  {
   "cell_type": "code",
   "execution_count": 1,
   "id": "2dc2e8c4-bc8d-410f-adc7-965d9c4f98d9",
   "metadata": {
    "deletable": false,
    "nbgrader": {
     "cell_type": "code",
     "checksum": "a6d714234375ec3f1fff0e3b9276fe08",
     "grade": false,
     "grade_id": "ans-1",
     "locked": false,
     "schema_version": 3,
     "solution": true,
     "task": false
    },
    "tags": []
   },
   "outputs": [
    {
     "name": "stdout",
     "output_type": "stream",
     "text": [
      "f1 = 1\n",
      "f2 = 1\n",
      "f3 = 2\n",
      "f4 = 3\n",
      "f5 = 5\n",
      "\n"
     ]
    }
   ],
   "source": [
    "def fibo(n):\n",
    "    i = 1\n",
    "    f0 = 0\n",
    "    f1 = 1\n",
    "    fi = 1\n",
    "    output = \"\"\n",
    "    while i < n+1:\n",
    "        output += f'f{i} = {fi}\\n'    \n",
    "        # INPUT YOUR CODE BELOW (this will likely take you 4 lines)\n",
    "        # YOUR CODE HERE\n",
    "        fi = f0 + f1\n",
    "        f0 = f1\n",
    "        f1 = fi\n",
    "        i += 1\n",
    "\n",
    "    return output\n",
    "# =======================\n",
    "# EXAMPLE TESTING CASES\n",
    "print(fibo(5))\n",
    "# output:\n",
    "# f1 = 1\n",
    "# f2 = 1\n",
    "# f3 = 2\n",
    "# f4 = 3\n",
    "# f5 = 5"
   ]
  },
  {
   "cell_type": "code",
   "execution_count": null,
   "id": "c81be397-ea31-4b4e-945a-1ff2d67e6022",
   "metadata": {
    "deletable": false,
    "editable": false,
    "nbgrader": {
     "cell_type": "code",
     "checksum": "ef71280ac4bbb457ab1d50a9a4ab6341",
     "grade": true,
     "grade_id": "hiddentest1-1",
     "locked": true,
     "points": 0.5,
     "schema_version": 3,
     "solution": false,
     "task": false
    },
    "tags": []
   },
   "outputs": [],
   "source": [
    "# Testing Cell (Do NOT modify this cell)"
   ]
  },
  {
   "cell_type": "code",
   "execution_count": null,
   "id": "204c7775-3194-47ff-989a-cf2b03ae3837",
   "metadata": {
    "deletable": false,
    "editable": false,
    "nbgrader": {
     "cell_type": "code",
     "checksum": "f80878e4304ced6939505b19820bcaf3",
     "grade": true,
     "grade_id": "hiddentest1-2",
     "locked": true,
     "points": 0.5,
     "schema_version": 3,
     "solution": false,
     "task": false
    },
    "tags": []
   },
   "outputs": [],
   "source": [
    "# Testing Cell (Do NOT modify this cell)"
   ]
  },
  {
   "cell_type": "markdown",
   "id": "56353080-47c6-417d-a387-58fa609ca298",
   "metadata": {
    "deletable": false,
    "editable": false,
    "nbgrader": {
     "cell_type": "markdown",
     "checksum": "1a952a59783b94b6ec05dd9cd1bb11ed",
     "grade": false,
     "grade_id": "qu-2",
     "locked": true,
     "schema_version": 3,
     "solution": false,
     "task": false
    },
    "tags": []
   },
   "source": [
    "## Task 2 (25%)\n",
    "Please display Fibonacci number using a recursive approach"
   ]
  },
  {
   "cell_type": "code",
   "execution_count": 2,
   "id": "58873388-b9ec-4c2f-be34-18edc93ee568",
   "metadata": {
    "deletable": false,
    "nbgrader": {
     "cell_type": "code",
     "checksum": "95a4f81c7eb79e1fc8fe2af0e1036948",
     "grade": false,
     "grade_id": "ans-2",
     "locked": false,
     "schema_version": 3,
     "solution": true,
     "task": false
    },
    "tags": []
   },
   "outputs": [
    {
     "name": "stdout",
     "output_type": "stream",
     "text": [
      "f10 is: 55\n",
      "f20 is: 6765\n"
     ]
    }
   ],
   "source": [
    "def fibo_rec(n):\n",
    "    # INPUT YOUR CODE BELOW (this will likely take you 4 lines)\n",
    "    # YOUR CODE HERE\n",
    "    if n <= 1:\n",
    "        return n\n",
    "    else:\n",
    "        return(fibo_rec(n-1) + fibo_rec(n-2))\n",
    "    \n",
    "# =======================\n",
    "# EXAMPLE TESTING CASES\n",
    "# DO NOT CHANGE\n",
    "n = 10\n",
    "print(f'f{n} is: {fibo_rec(n)}') # f10 is: 55\n",
    "\n",
    "n = 20\n",
    "print(f'f{n} is: {fibo_rec(n)}') # f20 is: 6765"
   ]
  },
  {
   "cell_type": "code",
   "execution_count": null,
   "id": "ccfae332-91ed-40b0-9913-1a4ad28b868c",
   "metadata": {
    "deletable": false,
    "editable": false,
    "nbgrader": {
     "cell_type": "code",
     "checksum": "71b89b4fa12e638c24a01835a1e03d04",
     "grade": true,
     "grade_id": "hiddentest2-1",
     "locked": true,
     "points": 0.5,
     "schema_version": 3,
     "solution": false,
     "task": false
    },
    "tags": []
   },
   "outputs": [],
   "source": [
    "# Testing Cell (Do NOT modify this cell)"
   ]
  },
  {
   "cell_type": "code",
   "execution_count": null,
   "id": "458017f0-c8dc-4cba-8d13-5bc3862d46f6",
   "metadata": {
    "deletable": false,
    "editable": false,
    "nbgrader": {
     "cell_type": "code",
     "checksum": "8dc5ee14cc0d4dc512003763341422b3",
     "grade": true,
     "grade_id": "hiddentest2-2",
     "locked": true,
     "points": 0.5,
     "schema_version": 3,
     "solution": false,
     "task": false
    },
    "tags": []
   },
   "outputs": [],
   "source": [
    "# Testing Cell (Do NOT modify this cell)"
   ]
  },
  {
   "cell_type": "markdown",
   "id": "9d7a641a-0409-4ba9-b124-7e52530e5b29",
   "metadata": {
    "deletable": false,
    "editable": false,
    "nbgrader": {
     "cell_type": "markdown",
     "checksum": "58c680bd694ae637722bee248eaa78fa",
     "grade": false,
     "grade_id": "qu-3",
     "locked": true,
     "schema_version": 3,
     "solution": false,
     "task": false
    },
    "tags": []
   },
   "source": [
    "## Task 3 (25%)\n",
    "Please implement the quick sort algorithm that \n",
    "1. sort the numbers in **ascending** order and\n",
    "1. uses the **first** element as the pivot."
   ]
  },
  {
   "cell_type": "code",
   "execution_count": 3,
   "id": "d804985a-2afa-4505-85a3-e6a34f735409",
   "metadata": {
    "deletable": false,
    "nbgrader": {
     "cell_type": "code",
     "checksum": "5471f1e87d708a95c80aab4bc8102b43",
     "grade": false,
     "grade_id": "ans-3",
     "locked": false,
     "schema_version": 3,
     "solution": true,
     "task": false
    },
    "tags": []
   },
   "outputs": [
    {
     "name": "stdout",
     "output_type": "stream",
     "text": [
      "[12, 21, 23, 43]\n"
     ]
    }
   ],
   "source": [
    "import random\n",
    "\n",
    "def qsort(arr):\n",
    "    # YOUR CODE BELOW (~ 2 lines, the base case)\n",
    "    # YOUR CODE HERE\n",
    "    if len(arr) < 2:\n",
    "        return arr\n",
    "    else:\n",
    "        # Read two lines below carefully, you will implement the partition function\n",
    "        lesser, greater = partition(arr)\n",
    "        return qsort(lesser) + [arr[0]] + qsort(greater) \n",
    "    \n",
    "def partition(arr):\n",
    "    lesser = []\n",
    "    greater = []\n",
    "    pivot = arr[0]\n",
    "    # YOUR CODE BELOW (~ 5 lines, create two lists: lesser and greater)\n",
    "    # YOUR CODE HERE\n",
    "    for x in arr[1:]:\n",
    "        if x <= pivot:\n",
    "            lesser.append(x)\n",
    "        else:\n",
    "            greater.append(x)\n",
    "    \n",
    "    return lesser, greater\n",
    "    \n",
    "# =======================\n",
    "# EXAMPLE TESTING CASES\n",
    "# DO NOT CHANGE\n",
    "A = [12, 23, 43, 21]\n",
    "arr = qsort(A)\n",
    "print(arr) #[12, 21, 23, 43]"
   ]
  },
  {
   "cell_type": "code",
   "execution_count": null,
   "id": "f49b63b3-45cd-45b9-bfc1-75ad69730d0e",
   "metadata": {
    "deletable": false,
    "editable": false,
    "nbgrader": {
     "cell_type": "code",
     "checksum": "f1691a731608a3efd32aff8a621cb447",
     "grade": true,
     "grade_id": "hiddentest3-1",
     "locked": true,
     "points": 1,
     "schema_version": 3,
     "solution": false,
     "task": false
    },
    "tags": []
   },
   "outputs": [],
   "source": [
    "# Testing Cell (Do NOT modify this cell)"
   ]
  },
  {
   "cell_type": "markdown",
   "id": "10fb2ca0-00b3-482e-83fa-352d696db0bd",
   "metadata": {
    "deletable": false,
    "editable": false,
    "nbgrader": {
     "cell_type": "markdown",
     "checksum": "49fdd3fb2b22bcf3cfbc17e89c7f9770",
     "grade": false,
     "grade_id": "qu-4",
     "locked": true,
     "schema_version": 3,
     "solution": false,
     "task": false
    },
    "tags": []
   },
   "source": [
    "## Exercise 4 (25%)\n",
    "Please implement the quick sort algorithm that \n",
    "1. sort the numbers in **descending** order and\n",
    "1. uses **random** element as the pivot.\n",
    "\n",
    "For simplicity, you can assume all number in the array are unique."
   ]
  },
  {
   "cell_type": "code",
   "execution_count": 4,
   "id": "5f6d56a3-2096-450c-8ac4-3025762c4c9c",
   "metadata": {
    "deletable": false,
    "nbgrader": {
     "cell_type": "code",
     "checksum": "b4d5ece03907a90dd665645a9b5bbf7b",
     "grade": false,
     "grade_id": "ans-4",
     "locked": false,
     "schema_version": 3,
     "solution": true,
     "task": false
    },
    "tags": []
   },
   "outputs": [
    {
     "name": "stdout",
     "output_type": "stream",
     "text": [
      "[23, 16, 12, 9, 5]\n"
     ]
    }
   ],
   "source": [
    "import random\n",
    "\n",
    "def qsort_dec(arr):\n",
    "    # YOUR CODE BELOW (~5 lines)\n",
    "    # Copy and modify the qsort() function above\n",
    "    # YOUR CODE HERE\n",
    "    if len(arr) < 2:\n",
    "        return arr\n",
    "    else:\n",
    "        # Read two lines below carefully, you will implement the partition function\n",
    "        lesser, greater, pivot = partition_dec(arr)\n",
    "        return qsort_dec(greater) + [pivot] + qsort_dec(lesser) \n",
    "    \n",
    "def partition_dec(arr):\n",
    "    lesser = []\n",
    "    greater = []\n",
    "    # YOUR CODE BELOW (~ 6 lines, copy and update from Task 3)\n",
    "    pivot = random.choice(arr)\n",
    "    # YOUR CODE HERE\n",
    "    for x in arr:\n",
    "        if x == pivot:\n",
    "            continue\n",
    "        elif x > pivot:\n",
    "            greater.append(x)\n",
    "        else:\n",
    "            lesser.append(x)\n",
    "    return lesser, greater, pivot \n",
    "\n",
    "# =======================\n",
    "# EXAMPLE TESTING CASES\n",
    "# DO NOT CHANGE\n",
    "A = [5, 9, 12, 16, 23]\n",
    "arr = qsort_dec(A)\n",
    "print(arr) # [23, 16, 12, 9, 5]"
   ]
  },
  {
   "cell_type": "code",
   "execution_count": null,
   "id": "5bdea30e-a4f5-4b02-b36e-ad21e264c61b",
   "metadata": {
    "deletable": false,
    "editable": false,
    "nbgrader": {
     "cell_type": "code",
     "checksum": "b8b7a176fb6e97170d3b7aec3daa6397",
     "grade": true,
     "grade_id": "hiddentest4-1",
     "locked": true,
     "points": 1,
     "schema_version": 3,
     "solution": false,
     "task": false
    },
    "tags": []
   },
   "outputs": [],
   "source": [
    "# Testing Cell (Do NOT modify this cell)"
   ]
  },
  {
   "cell_type": "code",
   "execution_count": null,
   "id": "08b46f9e-8769-4136-9bde-e717fd6934ca",
   "metadata": {},
   "outputs": [],
   "source": []
  }
 ],
 "metadata": {
  "kernelspec": {
   "display_name": "Python 3 (ipykernel)",
   "language": "python",
   "name": "python3"
  },
  "language_info": {
   "codemirror_mode": {
    "name": "ipython",
    "version": 3
   },
   "file_extension": ".py",
   "mimetype": "text/x-python",
   "name": "python",
   "nbconvert_exporter": "python",
   "pygments_lexer": "ipython3",
   "version": "3.10.9"
  }
 },
 "nbformat": 4,
 "nbformat_minor": 5
}

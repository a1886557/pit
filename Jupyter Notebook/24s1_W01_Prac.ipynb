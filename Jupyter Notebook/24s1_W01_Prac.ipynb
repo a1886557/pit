{
 "cells": [
  {
   "cell_type": "markdown",
   "id": "5175504c",
   "metadata": {},
   "source": [
    "### Instructions:\n",
    "\n",
    "- You can attempt any number of questions and in any order.  \n",
    "- You may submit this workshop/practical for autograding as many times as you like to check on progress, however you will save time by checking and testing your own code before submitting.\n",
    "- Develop and check your answers in the spaces provided.\n",
    "- **Replace** the `raise NotImplementedError()` or `...` snippets with your solution to the question.\n",
    "- Do **NOT** remove any variables other provided markings already provided in the answer spaces.\n",
    "- Do **NOT** make any changes to this notebook outside of the spaces indicated.  \n",
    "  (If you do this, the submission system might not accept your work)\n",
    "\n",
    "### Submitting:\n",
    "\n",
    "1. Before you turn this problem in, make sure everything runs as expected by resetting this notebook.    \n",
    "   (You can do this from the menubar above by selecting `Kernel`&#8594;`Restart Kernel and Run All Cells...`)\n",
    "1. Don't forget to save your notebook after this step.\n",
    "1. Submit your .ipynb file to Gradescope via file upload or GitHub repository.\n",
    "1. You can submit as many times as needed.\n",
    "1. You **must** give your submitted file the **identical** filename to that which you downloaded without changing **any** aspects - spaces, underscores, capitalisation etc. If your operating system has changed the filename because you downloaded the file twice or more you **must** also fix this.  \n",
    "\n"
   ]
  },
  {
   "cell_type": "markdown",
   "id": "311dcae2",
   "metadata": {},
   "source": [
    "---"
   ]
  },
  {
   "cell_type": "markdown",
   "id": "0809a02f-feee-4e47-b771-0fb44c03e0f8",
   "metadata": {
    "deletable": false,
    "editable": false,
    "nbgrader": {
     "cell_type": "markdown",
     "checksum": "87b51a43631706abfb9bac33862e3257",
     "grade": false,
     "grade_id": "title",
     "locked": true,
     "schema_version": 3,
     "solution": false,
     "task": false
    },
    "tags": []
   },
   "source": [
    "# COMP SCI 2009 Programming for IT - W01 Practical"
   ]
  },
  {
   "cell_type": "markdown",
   "id": "180ab616-2622-4e2c-9639-09b03b68ec41",
   "metadata": {
    "deletable": false,
    "editable": false,
    "nbgrader": {
     "cell_type": "markdown",
     "checksum": "de5764250539279d1d227db861a450fd",
     "grade": false,
     "grade_id": "qu-1",
     "locked": true,
     "schema_version": 3,
     "solution": false,
     "task": false
    },
    "tags": []
   },
   "source": [
    "## Exercise 1: Binary Search (25%)\n",
    "\n",
    "In *Introduction to Applied Programming*, you coded a number guessing game in one of your practical assignments. In that assignment, the user was the one guessing the number, while the program told you if your guess is larger or smaller than the answer. In this exercise, you will do the opposite, i.e., the user inputs a number (between 0 ~ 999) and a number guessing AI continuously guesses the number (using a binary search method) according to the user response.\n",
    "\n",
    "**Example (<font color=red>red text</font> represents user input):**\n",
    "```\n",
    "Please input a number (0~999):  *523*\n",
    "Is the number 500 ? :  *larger*\n",
    "Is the number 725 ? :  *smaller*\n",
    "Is the number 612 ? :   *smaller*\n",
    "...\n",
    "Is the number 523? :   *yes*\n",
    "```\n",
    "\n",
    "*This question is marked manually.*"
   ]
  },
  {
   "cell_type": "code",
   "execution_count": 5,
   "id": "30e1793f-409c-48cc-8598-510fba94be3f",
   "metadata": {
    "deletable": false,
    "nbgrader": {
     "cell_type": "code",
     "checksum": "4a028d1d6a9e416b50ea93fc231da3bb",
     "grade": true,
     "grade_id": "ans-1",
     "locked": false,
     "points": 0,
     "schema_version": 3,
     "solution": true,
     "task": false
    },
    "tags": []
   },
   "outputs": [
    {
     "name": "stdin",
     "output_type": "stream",
     "text": [
      "Please answer a number(0~999) 688\n",
      "Is the number 499? larger\n",
      "Is the number 749? smalle\n",
      "Is the number 749? smaller\n",
      "Is the number 624? larger\n",
      "Is the number 686? larger\n",
      "Is the number 717? smaller\n",
      "Is the number 701? smaller\n",
      "Is the number 693? smaller\n",
      "Is the number 689? smaller\n",
      "Is the number 687? larger\n",
      "Is the number 688? yes\n"
     ]
    }
   ],
   "source": [
    "# the range of the number\n",
    "left = 0\n",
    "right = 999\n",
    "\n",
    "# user input the anser\n",
    "answer = input('Please answer a number(0~999)')\n",
    "\n",
    "# AI guessing loop starts\n",
    "cnt = 0\n",
    "while True:\n",
    "    # instead of random guess, AI should use binary search\n",
    "    # REPLACE the line below\n",
    "    guess = (left + right) // 2\n",
    "    response = input(f'Is the number {guess}?')\n",
    "    \n",
    "    # INSERT YOUR CODE BELOW    \n",
    "    # Update left or right according to the response\n",
    "    # ~ 7 lines\n",
    "    if response == \"yes\":\n",
    "        break\n",
    "    elif response == \"larger\":\n",
    "        left = guess + 1\n",
    "    elif response == \"smaller\":\n",
    "        right = guess - 1\n",
    "    \n",
    "    # terminate loop for autograder\n",
    "    cnt += 1\n",
    "    if cnt >= 15:\n",
    "        break"
   ]
  },
  {
   "cell_type": "markdown",
   "id": "fb17ec5b-6d84-472a-b0d6-2b5e68dc92a3",
   "metadata": {
    "deletable": false,
    "editable": false,
    "nbgrader": {
     "cell_type": "markdown",
     "checksum": "ad673167f6baae4ffe28bd8d4f26128a",
     "grade": false,
     "grade_id": "qu-2",
     "locked": true,
     "schema_version": 3,
     "solution": false,
     "task": false
    },
    "tags": []
   },
   "source": [
    "## Exercise 2: Insertion sort & pseudocode (25%)\n",
    "\n",
    "Below is the pseudo code of an **insertion sort** algorithm. Note that in this pseudocode the index starts from `1` instead of `0` and you will need to modify the code accordingly. \n",
    "```\n",
    "INSERTION_SORT(A)\n",
    "for j = 2 to A.length\n",
    "    key = A[j]\n",
    "    // Insert A[j] into the sorted sequence A[1..j-1]\n",
    "    i = j - 1\n",
    "    while i > 0 and A[i] > key\n",
    "        A[i+1] = A[i]\n",
    "        i = i - 1\n",
    "    A[i+1] = key\n",
    "```"
   ]
  },
  {
   "cell_type": "markdown",
   "id": "da3ffffe-f1bb-4ef1-9847-b4efbf9e01a1",
   "metadata": {
    "deletable": false,
    "editable": false,
    "nbgrader": {
     "cell_type": "markdown",
     "checksum": "a6929551c7f269845bfcf94e87f06c1c",
     "grade": false,
     "grade_id": "qu2-2",
     "locked": true,
     "schema_version": 3,
     "solution": false,
     "task": false
    },
    "tags": []
   },
   "source": [
    "Please do the following\n",
    "1. Read the pseudo code and explain how **each line of the code** works. Before you start Googling about **insertion sort**, please spend 10 minutes reading the pseudocode and make sense of it (you will need to be able to read psuedocode in closed-book assessments! Discuss with your tutor if you are having trouble.\n",
    "2. Implement the pseudocode using Python in the cell below."
   ]
  },
  {
   "cell_type": "markdown",
   "id": "12883fd3-d133-4d7a-92f0-a6bd2e170f90",
   "metadata": {
    "deletable": false,
    "editable": false,
    "nbgrader": {
     "cell_type": "markdown",
     "checksum": "0325cf4d02378a2c2a1ee7f15ecfd38a",
     "grade": false,
     "grade_id": "ans-2-1",
     "locked": true,
     "schema_version": 3,
     "solution": false,
     "task": false
    },
    "tags": []
   },
   "source": [
    "**In addition to uploading your file, please upload a .txt file containing your explination of the pseduocode.**"
   ]
  },
  {
   "cell_type": "code",
   "execution_count": 2,
   "id": "65ba2bbf-bd84-40c6-a61c-3b6addad42bb",
   "metadata": {
    "deletable": false,
    "nbgrader": {
     "cell_type": "code",
     "checksum": "0c10b3efef2cfc0d9b9b0f118cf4671d",
     "grade": false,
     "grade_id": "ans-2-2",
     "locked": false,
     "schema_version": 3,
     "solution": true,
     "task": false
    },
    "tags": []
   },
   "outputs": [
    {
     "name": "stdout",
     "output_type": "stream",
     "text": [
      "[3, 13, 14, 17, 28, 31, 35, 81, 86, 94]\n",
      "[3, 25, 28, 53, 69, 71, 77, 83, 89, 91]\n"
     ]
    }
   ],
   "source": [
    "def insert_sort(A):\n",
    "    for j in range(1, len(A)):\n",
    "        # INSERT YOUR CODE BELOW\n",
    "        # ~6 line\n",
    "        key = A[j]\n",
    "        i = j - 1\n",
    "        while i >= 0 and A[i] > key:\n",
    "            A[i+1] = A[i]\n",
    "            i = i - 1\n",
    "        A[i+1] = key\n",
    "    return A\n",
    "\n",
    "# =======================\n",
    "# EXAMPLE TESTING CASES\n",
    "# DO NOT CHANGE\n",
    "\n",
    "A = insert_sort([81, 14, 3, 94, 35, 31, 28, 17, 13, 86])\n",
    "print(A) # [3, 13, 14, 17, 28, 31, 35, 81, 86, 94]\n",
    "A = insert_sort([77, 3, 71, 25, 91, 83, 89, 69, 53, 28])\n",
    "print(A) # [3, 25, 28, 53, 69, 71, 77, 83, 89, 91]"
   ]
  },
  {
   "cell_type": "code",
   "execution_count": null,
   "id": "946e7353-74f9-441b-af33-b4595ab50307",
   "metadata": {
    "deletable": false,
    "editable": false,
    "nbgrader": {
     "cell_type": "code",
     "checksum": "78251c9776e1f003fdab274ca5bf4d11",
     "grade": true,
     "grade_id": "hiddentest2-1",
     "locked": true,
     "points": 0.25,
     "schema_version": 3,
     "solution": false,
     "task": false
    },
    "tags": []
   },
   "outputs": [],
   "source": [
    "# Testing Cell (Do NOT modify this cell)"
   ]
  },
  {
   "cell_type": "code",
   "execution_count": null,
   "id": "b6ca03b7-a65f-4939-b6c2-0c46e4bff6ad",
   "metadata": {
    "deletable": false,
    "editable": false,
    "nbgrader": {
     "cell_type": "code",
     "checksum": "26df7cf3795da3ff7ff9e6b15d9fca57",
     "grade": true,
     "grade_id": "hiddentest2-2",
     "locked": true,
     "points": 0.25,
     "schema_version": 3,
     "solution": false,
     "task": false
    },
    "tags": []
   },
   "outputs": [],
   "source": [
    "# Testing Cell (Do NOT modify this cell)"
   ]
  },
  {
   "cell_type": "markdown",
   "id": "89618c3a-a5e8-4e4b-8358-49f9c2cebf90",
   "metadata": {
    "deletable": false,
    "editable": false,
    "nbgrader": {
     "cell_type": "markdown",
     "checksum": "a6d3e1ce769d37668a15b0923ca7dbd7",
     "grade": false,
     "grade_id": "qu-3",
     "locked": true,
     "schema_version": 3,
     "solution": false,
     "task": false
    },
    "tags": []
   },
   "source": [
    "## Exercise 3: Max Consecutive Identical Characters (25%)\n",
    "\n",
    "Complete the following function such that when it is given a string, it returns the maximum number of consecutive identical characters within that string.\n",
    "\n",
    "**Example 1**\n",
    "\n",
    "- Input: `aabbccccddd`<br>\n",
    "- Output: 4<br>\n",
    "- Comment: The input has 2 consecutive `a`, 2 `b`, 4 `c`, 3 `d`, thus the maximum number of consecutive identical characters is 4.\n",
    "\n",
    "**Example 2**\n",
    "\n",
    "- Input: `abcffgfffffgg`<br>\n",
    "- Output: 5<br>\n",
    "- Comment: Although there are 7 `f`, the longest consecutive substring is `fffff` as there is a `g` between `ff` and `fffff`. \n",
    "**Example 3**\n",
    "\n",
    "- Input: `apple`<br>\n",
    "- Output: 2<br>"
   ]
  },
  {
   "cell_type": "code",
   "execution_count": 3,
   "id": "34df37df-00a1-4ef6-bfba-a166075f3a24",
   "metadata": {
    "deletable": false,
    "nbgrader": {
     "cell_type": "code",
     "checksum": "509da3497152049962be4502756fca9d",
     "grade": false,
     "grade_id": "ans-3",
     "locked": false,
     "schema_version": 3,
     "solution": true,
     "task": false
    },
    "tags": []
   },
   "outputs": [
    {
     "name": "stdout",
     "output_type": "stream",
     "text": [
      "4\n",
      "5\n"
     ]
    }
   ],
   "source": [
    "def consec_char(input_str):\n",
    "    max_cnt = -1    \n",
    "    cnt = 0\n",
    "    cur = input_str[0]\n",
    "    for i in range(len(input_str)):\n",
    "        c = input_str[i]\n",
    "        # INSERT YOUR CODE BELOW\n",
    "        # hint: check if c is equal to cur. If not, update cur and check max_cnt\n",
    "        # <10 lines\n",
    "        if c == cur:\n",
    "            cnt += 1\n",
    "\n",
    "        else:\n",
    "            cnt = 1\n",
    "            cur = c\n",
    "            \n",
    "        if cnt > max_cnt:\n",
    "            max_cnt = cnt\n",
    "            \n",
    "    return max_cnt\n",
    "\n",
    "# =======================\n",
    "# EXAMPLE TESTING CASES\n",
    "# DO NOT CHANGE\n",
    "c = consec_char('aabbccccddd')\n",
    "print(c) # 4\n",
    "c = consec_char('abcffgfffffgg')\n",
    "print(c) # 5\n"
   ]
  },
  {
   "cell_type": "code",
   "execution_count": null,
   "id": "d20015d7-b31b-4bb8-891e-8601a858857b",
   "metadata": {
    "deletable": false,
    "editable": false,
    "nbgrader": {
     "cell_type": "code",
     "checksum": "6175b4d558097b23085c7cdf62066a01",
     "grade": true,
     "grade_id": "hiddentest3-1",
     "locked": true,
     "points": 0.5,
     "schema_version": 3,
     "solution": false,
     "task": false
    },
    "tags": []
   },
   "outputs": [],
   "source": [
    "# Testing Cell (Do NOT modify this cell)"
   ]
  },
  {
   "cell_type": "code",
   "execution_count": null,
   "id": "58539e36-d2e7-45c9-9b6f-033912f1c4ee",
   "metadata": {
    "deletable": false,
    "editable": false,
    "nbgrader": {
     "cell_type": "code",
     "checksum": "87d9eb7807c82b7c39472010d8198492",
     "grade": true,
     "grade_id": "hiddentest3-2",
     "locked": true,
     "points": 0.5,
     "schema_version": 3,
     "solution": false,
     "task": false
    },
    "tags": []
   },
   "outputs": [],
   "source": [
    "# Testing Cell (Do NOT modify this cell)"
   ]
  },
  {
   "cell_type": "markdown",
   "id": "0e693bf1-9b06-4c09-b654-a5b3b924dac2",
   "metadata": {
    "deletable": false,
    "editable": false,
    "nbgrader": {
     "cell_type": "markdown",
     "checksum": "a620920f055828fce0e4265c8c6dcd20",
     "grade": false,
     "grade_id": "qu-4",
     "locked": true,
     "schema_version": 3,
     "solution": false,
     "task": false
    },
    "tags": []
   },
   "source": [
    "## Exercise 4: Longest Continuous Decreasing Subsequence (25%)\n",
    "\n",
    "Complete the following function such that when it is given an unsorted array of intergers `nums`, it returns the length of the longest continuous decreasing sequence (i.e. subarray). The subsequence must be **strictly** decreasing.\n",
    "\n",
    "Formally, a continuous decreasing subsequence is defined by two indices l and r (l < r) such that it is [nums[l], nums[l + 1], ..., nums[r - 1], nums[r]] and for each l <= i < r, nums[i] > nums[i + 1].\n",
    "\n",
    "**Example 1** \n",
    "- input: `[3,5,4,3,2,7,1]`\n",
    "- output: 4\n",
    "- The longest continuous decreasing subsequence is `5432`. Note that although `54321` is the longest decreasing subsequence, it is not a continuous one as `7` is betweeen `2` and `1`\n",
    "\n",
    "**Example 2**\n",
    "- input: `[7,8,9,7,7,6,5,3,6]`\n",
    "- output: 4\n",
    "- The subsequence is [7, 6, 5, 3]. The numbers must be strictly decreasing, thus the 4th and 5th elements are both `7` and do not satisfy the requirement. \n",
    "\n",
    "**Example 3**\n",
    "- input: `[2,4,8,6,5,8]`\n",
    "- output: 3\n",
    "\n",
    "**Example 4**\n",
    "- input: `[1, 2, 3]`\n",
    "- output: 1\n",
    "- Special case when there is no continuous decreasing subsequence. "
   ]
  },
  {
   "cell_type": "code",
   "execution_count": 4,
   "id": "36d5df09-e9ca-4376-adae-da5d979ed2af",
   "metadata": {
    "deletable": false,
    "nbgrader": {
     "cell_type": "code",
     "checksum": "3a421d9acae646d57e53de351748ec14",
     "grade": false,
     "grade_id": "ans-4",
     "locked": false,
     "schema_version": 3,
     "solution": true,
     "task": false
    },
    "tags": []
   },
   "outputs": [
    {
     "name": "stdout",
     "output_type": "stream",
     "text": [
      "4\n",
      "4\n"
     ]
    }
   ],
   "source": [
    "def lcds(array):\n",
    "    max_cnt = -1\n",
    "    # INSERT YOUR CODE BELOW\n",
    "    cnt = 0\n",
    "    for i in range(len(array)):\n",
    "        c = array[i]\n",
    "        r = array[i - 1]\n",
    "        # INSERT YOUR CODE BELOW\n",
    "        # hint: check if c is equal to cur. If not, update cur and check max_cnt\n",
    "        # <10 lines\n",
    "        if c < r:\n",
    "            cnt += 1\n",
    "\n",
    "        else:\n",
    "            cnt = 1\n",
    "            \n",
    "        if cnt > max_cnt:\n",
    "            max_cnt = cnt\n",
    "    return max_cnt\n",
    "\n",
    "# =======================\n",
    "# EXAMPLE TESTING CASES\n",
    "# DO NOT CHANGE\n",
    "c = lcds([3,5,4,3,2,7,1])\n",
    "print(c) # 4\n",
    "c = lcds([7,8,9,7,7,6,5,3,6])\n",
    "print(c) # 4"
   ]
  },
  {
   "cell_type": "code",
   "execution_count": null,
   "id": "6e40af26-37bb-402c-839d-011b3a85c63a",
   "metadata": {
    "deletable": false,
    "editable": false,
    "nbgrader": {
     "cell_type": "code",
     "checksum": "bf0a9c2af32549db78df0f84025082d6",
     "grade": true,
     "grade_id": "hiddentest4-1",
     "locked": true,
     "points": 0.33,
     "schema_version": 3,
     "solution": false,
     "task": false
    },
    "tags": []
   },
   "outputs": [],
   "source": [
    "# Testing Cell (Do NOT modify this cell)"
   ]
  },
  {
   "cell_type": "code",
   "execution_count": null,
   "id": "d2b5d6fa-c248-4d04-be76-282f178cc72f",
   "metadata": {
    "deletable": false,
    "editable": false,
    "nbgrader": {
     "cell_type": "code",
     "checksum": "9b04f132a4d38ebed2e19804b69ae967",
     "grade": true,
     "grade_id": "hiddentest4-2",
     "locked": true,
     "points": 0.33,
     "schema_version": 3,
     "solution": false,
     "task": false
    },
    "tags": []
   },
   "outputs": [],
   "source": [
    "# Testing Cell (Do NOT modify this cell)"
   ]
  },
  {
   "cell_type": "code",
   "execution_count": null,
   "id": "a95dd097-91f8-4aee-8000-72eddc3df2fb",
   "metadata": {
    "deletable": false,
    "editable": false,
    "nbgrader": {
     "cell_type": "code",
     "checksum": "4fefc2824e9f956672cedbf5dc025486",
     "grade": true,
     "grade_id": "hiddentest4-3",
     "locked": true,
     "points": 0.34,
     "schema_version": 3,
     "solution": false,
     "task": false
    },
    "tags": []
   },
   "outputs": [],
   "source": [
    "# Testing Cell (Do NOT modify this cell)"
   ]
  }
 ],
 "metadata": {
  "kernelspec": {
   "display_name": "Python 3 (ipykernel)",
   "language": "python",
   "name": "python3"
  },
  "language_info": {
   "codemirror_mode": {
    "name": "ipython",
    "version": 3
   },
   "file_extension": ".py",
   "mimetype": "text/x-python",
   "name": "python",
   "nbconvert_exporter": "python",
   "pygments_lexer": "ipython3",
   "version": "3.10.9"
  }
 },
 "nbformat": 4,
 "nbformat_minor": 5
}

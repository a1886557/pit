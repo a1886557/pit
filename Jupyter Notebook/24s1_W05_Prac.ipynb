{
 "cells": [
  {
   "cell_type": "markdown",
   "id": "040f5b49",
   "metadata": {},
   "source": [
    "### Instructions:\n",
    "\n",
    "- You can attempt any number of questions and in any order.  \n",
    "- You may submit this workshop/practical for autograding as many times as you like to check on progress, however you will save time by checking and testing your own code before submitting.\n",
    "- Develop and check your answers in the spaces provided.\n",
    "- **Replace** the `raise NotImplementedError()` or `...` snippets with your solution to the question.\n",
    "- Do **NOT** remove any variables other provided markings already provided in the answer spaces.\n",
    "- Do **NOT** make any changes to this notebook outside of the spaces indicated.  \n",
    "  (If you do this, the submission system might not accept your work)\n",
    "\n",
    "### Submitting:\n",
    "\n",
    "1. Before you turn this problem in, make sure everything runs as expected by resetting this notebook.    \n",
    "   (You can do this from the menubar above by selecting `Kernel`&#8594;`Restart Kernel and Run All Cells...`)\n",
    "1. Don't forget to save your notebook after this step.\n",
    "1. Submit your .ipynb file to Gradescope via file upload or GitHub repository.\n",
    "1. You can submit as many times as needed.\n",
    "1. You **must** give your submitted file the **identical** filename to that which you downloaded without changing **any** aspects - spaces, underscores, capitalisation etc. If your operating system has changed the filename because you downloaded the file twice or more you **must** also fix this.  \n",
    "\n"
   ]
  },
  {
   "cell_type": "markdown",
   "id": "08640945",
   "metadata": {},
   "source": [
    "---"
   ]
  },
  {
   "cell_type": "markdown",
   "id": "44fdaded-b7ac-4db2-96c8-9296b35b526c",
   "metadata": {
    "deletable": false,
    "editable": false,
    "nbgrader": {
     "cell_type": "markdown",
     "checksum": "5082316d8cfcf8f8bea5b3293d24e047",
     "grade": false,
     "grade_id": "title",
     "locked": true,
     "schema_version": 3,
     "solution": false,
     "task": false
    },
    "tags": []
   },
   "source": [
    "# COMP SCI 2009 Programming for IT - W05 Practical"
   ]
  },
  {
   "cell_type": "markdown",
   "id": "c5f33f52-ae9d-43ef-abc0-9f172b1c78ce",
   "metadata": {
    "deletable": false,
    "editable": false,
    "nbgrader": {
     "cell_type": "markdown",
     "checksum": "6434c686429d3923c894eea46186d20c",
     "grade": false,
     "grade_id": "context",
     "locked": true,
     "schema_version": 3,
     "solution": false,
     "task": false
    },
    "tags": []
   },
   "source": [
    "## Set Covering\n",
    "As mentioned in the lecture, the **set cover problem** is an NP-complete problem. In this task, you will solve this question using both exhausive search (brute force) and greedy apporach. \n",
    "\n",
    "The problem is defined as follow:\n",
    "\n",
    "Given a `list` of `sets` where each `set` contains integers, please find the minimum number of sets that cover the integers from `1` to `n`\n",
    "\n",
    "For example, given the following three sets and `n` being 10:\n",
    "1. `[1, 2, 3, 4, 5]`\n",
    "1. `[2, 4, 6, 8]`\n",
    "1. `[6, 7, 8, 9, 10]`\n",
    "\n",
    "Your code should find that `set1` and `set3` will cover all the integers from `1` to `10`.\n"
   ]
  },
  {
   "cell_type": "markdown",
   "id": "af058080-c283-4fec-8bd4-d62ade05290f",
   "metadata": {
    "deletable": false,
    "editable": false,
    "nbgrader": {
     "cell_type": "markdown",
     "checksum": "fb42801ac6f823fd02a5b97d26cc9d8f",
     "grade": false,
     "grade_id": "qu-1",
     "locked": true,
     "schema_version": 3,
     "solution": false,
     "task": false
    },
    "tags": []
   },
   "source": [
    "## Exercise 1: Set cover - brute force \n",
    "\n",
    "First, implement the brute force approach that tests `all` combinations. You can assume there will be a solution. To simplify your code a bit, you can use the `itertools`. Please read its document and examples below:\n",
    "\n",
    "- https://www.geeksforgeeks.org/itertools-combinations-module-python-print-possible-combinations/\n",
    "- https://docs.python.org/3/library/itertools.html"
   ]
  },
  {
   "cell_type": "code",
   "execution_count": 6,
   "id": "beb50c75-edb5-4f3b-83d0-f87cb0dfdf1d",
   "metadata": {
    "deletable": false,
    "nbgrader": {
     "cell_type": "code",
     "checksum": "199cf534df7c7284bc071faafbdc9e4d",
     "grade": false,
     "grade_id": "ans-1",
     "locked": false,
     "schema_version": 3,
     "solution": true,
     "task": false
    },
    "tags": []
   },
   "outputs": [
    {
     "name": "stdout",
     "output_type": "stream",
     "text": [
      "([1, 2, 3], [4, 5, 6], [7, 8, 9, 10], [12], [11])\n",
      "---\n",
      "([1, 7], [2, 4, 8, 9, 10], [3, 5, 6])\n"
     ]
    }
   ],
   "source": [
    "import itertools\n",
    "\n",
    "def brute_force_set(li, n):\n",
    "    # INSERT YOUR CODE BELOW\n",
    "    # use itertools.combinations\n",
    "    # ~ 8 lines\n",
    "    # YOUR CODE HERE\n",
    "    min_sets = []\n",
    "    for i in range(1, len(li) + 1):\n",
    "        for combination in itertools.combinations(li, i):\n",
    "            min_sets.append(combination)\n",
    "                        \n",
    "    for sets in min_sets:\n",
    "        duplicates = set()\n",
    "        for subsets in sets:\n",
    "            duplicates.update(subsets)\n",
    "            \n",
    "        if len(duplicates) == n:\n",
    "            return sets\n",
    "        \n",
    "    \n",
    "    \n",
    "# =======================\n",
    "# EXAMPLE TESTING CASES\n",
    "set_list1 = [ # first test input\n",
    "    [1, 2, 3],\n",
    "    [4, 5, 6],\n",
    "    [7, 8, 9, 10],\n",
    "    [1, 3, 7],\n",
    "    [12],\n",
    "    [2, 4, 6, 8],\n",
    "    [11],\n",
    "]\n",
    "\n",
    "set_list2 = [ # second test input\n",
    "    [4, 2, 5],\n",
    "    [1, 7],\n",
    "    [2, 4, 8, 9, 10],\n",
    "    [5, 10],\n",
    "    [3, 5, 6],\n",
    "    [2, 6],\n",
    "    [1, 8, 9, 10]\n",
    "]\n",
    "            \n",
    "ss = brute_force_set(set_list1, 12)\n",
    "print(ss) # ([1, 2, 3], [4, 5, 6], [7, 8, 9, 10], [12], [11])\n",
    "print('---')\n",
    "ss = brute_force_set(set_list2, 10)\n",
    "print(ss) # ([1, 7], [2, 4, 8, 9, 10], [3, 5, 6])"
   ]
  },
  {
   "cell_type": "code",
   "execution_count": 3,
   "id": "fc126544-a231-4787-a432-828a293a0f56",
   "metadata": {
    "deletable": false,
    "editable": false,
    "nbgrader": {
     "cell_type": "code",
     "checksum": "ef71280ac4bbb457ab1d50a9a4ab6341",
     "grade": true,
     "grade_id": "hiddentest1-1",
     "locked": true,
     "points": 0.5,
     "schema_version": 3,
     "solution": false,
     "task": false
    },
    "tags": []
   },
   "outputs": [],
   "source": [
    "# Testing Cell (Do NOT modify this cell)"
   ]
  },
  {
   "cell_type": "code",
   "execution_count": null,
   "id": "8a8e3d94-9e22-48cb-b50f-0408ea2bf6b6",
   "metadata": {
    "deletable": false,
    "editable": false,
    "nbgrader": {
     "cell_type": "code",
     "checksum": "f80878e4304ced6939505b19820bcaf3",
     "grade": true,
     "grade_id": "hiddentest1-2",
     "locked": true,
     "points": 0.5,
     "schema_version": 3,
     "solution": false,
     "task": false
    },
    "tags": []
   },
   "outputs": [],
   "source": [
    "# Testing Cell (Do NOT modify this cell)"
   ]
  },
  {
   "cell_type": "markdown",
   "id": "b91929d0-3275-4d90-89bf-98ed9ddde14b",
   "metadata": {
    "deletable": false,
    "editable": false,
    "nbgrader": {
     "cell_type": "markdown",
     "checksum": "010ba5812de0d8eee50b9a8e94f859e5",
     "grade": false,
     "grade_id": "qu-2",
     "locked": true,
     "schema_version": 3,
     "solution": false,
     "task": false
    },
    "tags": []
   },
   "source": [
    "## Exercise 2: Set cover - greedy\n",
    "\n",
    "\n",
    "\n",
    "In this exercise, please implement a greedy algorithm that **for each step, takes a set that contains the most uncovered integers** until it covers all integers from `1` to `n`."
   ]
  },
  {
   "cell_type": "code",
   "execution_count": 17,
   "id": "764b7bd7-af98-4b14-9db9-7dca5b1f9dd3",
   "metadata": {
    "deletable": false,
    "nbgrader": {
     "cell_type": "code",
     "checksum": "bb867bf5043618cede70a70210954f23",
     "grade": false,
     "grade_id": "ans-2",
     "locked": false,
     "schema_version": 3,
     "solution": true,
     "task": false
    },
    "tags": []
   },
   "outputs": [
    {
     "name": "stdout",
     "output_type": "stream",
     "text": [
      "[[7, 8, 9, 10], [1, 2, 3], [4, 5, 6], [12], [11]]\n",
      "---\n",
      "[[2, 4, 8, 9, 10], [3, 5, 6], [1, 7]]\n"
     ]
    }
   ],
   "source": [
    "import copy\n",
    "def greedy_set(list_sets, n):\n",
    "    sets = list_sets.copy()\n",
    "    ans = [] # your answer, should be a list of sets\n",
    "    covered = {}\n",
    "\n",
    "    kk = 0 # loop_counter\n",
    "    while True:\n",
    "        # INSERT YOUR CODE BELOW\n",
    "        # Step 1: search for the set with most uncovered integers\n",
    "        # Step 2: add the set into ans\n",
    "        # Step 3: check if ans already cover all integers\n",
    "        # ~ 15 lines\n",
    "        \n",
    "        # YOUR CODE HERE\n",
    "        # Step 1: search for the set with most uncovered integers\n",
    "        max_uncovered = 0\n",
    "        most_uncovered = []\n",
    "        \n",
    "        for subsets in sets:\n",
    "            uncovered_elements = []\n",
    "            for i in subsets:\n",
    "                if i not in covered:\n",
    "                    uncovered_elements.append(i)\n",
    "                    \n",
    "            uncovered_count = len(uncovered_elements)\n",
    "            \n",
    "            if uncovered_count > max_uncovered:\n",
    "                max_uncovered = uncovered_count\n",
    "                most_uncovered = subsets\n",
    "                \n",
    "        # Step 2: add the set into ans\n",
    "        ans.append(most_uncovered)\n",
    "            \n",
    "        \n",
    "        # Step 3: check if ans already cover all integers\n",
    "        for i in most_uncovered:\n",
    "            covered[i] = True\n",
    "            \n",
    "        if len(covered) == n:\n",
    "            break\n",
    "        \n",
    "        # BELOW 3 LINES ARE TO AVOID INFINITE LOOP FOR YOU\n",
    "        kk += 1\n",
    "        if kk > 10:\n",
    "            break\n",
    "            \n",
    "    return ans\n",
    "\n",
    "# =======================\n",
    "# EXAMPLE TESTING CASES\n",
    "set_list1 = [ # first test input\n",
    "    [1, 2, 3],\n",
    "    [4, 5, 6],\n",
    "    [7, 8, 9, 10],\n",
    "    [1, 3, 7],\n",
    "    [12],\n",
    "    [2, 4, 6, 8],\n",
    "    [11],\n",
    "]\n",
    "\n",
    "set_list2 = [ # second test input\n",
    "    [4, 2, 5],\n",
    "    [1, 7],\n",
    "    [2, 4, 8, 9, 10],\n",
    "    [5, 10],\n",
    "    [3, 5, 6],\n",
    "    [2, 6],\n",
    "    [1, 8, 9, 10]\n",
    "]\n",
    "\n",
    "ss = greedy_set(set_list1, 12)\n",
    "print(ss) # [[7, 8, 9, 10], [1, 2, 3], [4, 5, 6], [12], [11]]\n",
    "print('---')\n",
    "ss = greedy_set(set_list2, 10)\n",
    "print(ss) # [[2, 4, 8, 9, 10], [3, 5, 6], [1, 7]]"
   ]
  },
  {
   "cell_type": "code",
   "execution_count": null,
   "id": "470d0da2-50a4-4a93-9f89-e05aa7ddd18a",
   "metadata": {
    "deletable": false,
    "editable": false,
    "nbgrader": {
     "cell_type": "code",
     "checksum": "71b89b4fa12e638c24a01835a1e03d04",
     "grade": true,
     "grade_id": "hiddentest2-1",
     "locked": true,
     "points": 0.5,
     "schema_version": 3,
     "solution": false,
     "task": false
    },
    "tags": []
   },
   "outputs": [],
   "source": [
    "# Testing Cell (Do NOT modify this cell)"
   ]
  },
  {
   "cell_type": "code",
   "execution_count": null,
   "id": "cbc47965-77ac-4047-bbc5-f461d4950ff4",
   "metadata": {
    "deletable": false,
    "editable": false,
    "nbgrader": {
     "cell_type": "code",
     "checksum": "8dc5ee14cc0d4dc512003763341422b3",
     "grade": true,
     "grade_id": "hiddentest2-2",
     "locked": true,
     "points": 0.5,
     "schema_version": 3,
     "solution": false,
     "task": false
    },
    "tags": []
   },
   "outputs": [],
   "source": [
    "# Testing Cell (Do NOT modify this cell)"
   ]
  },
  {
   "cell_type": "markdown",
   "id": "26f2e059-0ce1-4a93-8386-ce23e3813c83",
   "metadata": {
    "deletable": false,
    "editable": false,
    "nbgrader": {
     "cell_type": "markdown",
     "checksum": "03e02b02ca76fbcc53aefe5cff761ea4",
     "grade": false,
     "grade_id": "qu-3",
     "locked": true,
     "schema_version": 3,
     "solution": false,
     "task": false
    },
    "tags": []
   },
   "source": [
    "# Exercise 3 - Knapsack Problem\n",
    "\n",
    "It’s Boxing Day and you are in a shopping contest! You have one shopping bag and you would like to fill your bags with items that have the largest sum of values. Please solve this problem using dynamic programming."
   ]
  },
  {
   "cell_type": "code",
   "execution_count": 2,
   "id": "5b4bbdec-c8a0-4512-94ec-b4634f633877",
   "metadata": {
    "deletable": false,
    "nbgrader": {
     "cell_type": "code",
     "checksum": "2e7dfc88335b8d30f87efe2e0b6bc6c0",
     "grade": false,
     "grade_id": "ans-3",
     "locked": false,
     "schema_version": 3,
     "solution": true,
     "task": false
    },
    "tags": []
   },
   "outputs": [
    {
     "name": "stdout",
     "output_type": "stream",
     "text": [
      "    0    0    0 3000 \n",
      " 1500 1500 1500 3000 \n",
      " 1500 1500 2000 3500 \n",
      "---\n",
      "  700  700  700  700  700  700  700 \n",
      "  700  700  700 1000 1000 1000 1000 \n",
      "  700  700  700 1400 1400 1400 1700 \n",
      "  700  700  700 1400 1700 1700 1700 \n",
      "  700  700 1200 1900 1900 1900 2600 \n",
      "  900 1600 1600 2100 2800 2800 2800 \n",
      "  900 1700 2400 2400 2900 3600 3600 \n"
     ]
    }
   ],
   "source": [
    "def knapsack_dp(bag_size, items):\n",
    "    num_row = len(items)\n",
    "    num_col = bag_size\n",
    "    grid = [[0]* (num_col) for _ in range(num_row)] # initialise the grid    \n",
    "    prev_max = 0\n",
    "    \n",
    "    # INSERT YOUR CODE\n",
    "    # Update the DP table (the variable grid)\n",
    "    # ~ 15 lines\n",
    "    # YOUR CODE HERE\n",
    "    for r in range(num_row):\n",
    "        item_name = items[r][0]\n",
    "        item_weight = items[r][1]\n",
    "        item_value = items[r][2]\n",
    "        \n",
    "        for c in range (num_col):\n",
    "            if item_weight <= c + 1:\n",
    "                if r > 0:\n",
    "                    if (c - item_weight) >= 0:\n",
    "                        value_with_item = item_value + grid[r - 1][c - item_weight]\n",
    "                        grid[r][c] = max(value_with_item, grid[r-1][c])\n",
    "                    else:\n",
    "                        grid[r][c] = max(item_value, grid[r-1][c])\n",
    "                else:\n",
    "                    grid[r][c] = item_value\n",
    "                    \n",
    "            else:\n",
    "                if r > 0:\n",
    "                    grid[r][c] = grid[r-1][c]\n",
    "                else:\n",
    "                    grid[r][c] = 0\n",
    "\n",
    "    return grid\n",
    "\n",
    "def display(grid):\n",
    "    for r in grid:\n",
    "        s = ' '\n",
    "        for c in r:\n",
    "            s += f'{c:4} '\n",
    "        print(s)\n",
    "\n",
    "# =======================\n",
    "# EXAMPLE TESTING CASES\n",
    "bag1 = 4 # the maximum weight for the bag\n",
    "item_list1 = [\n",
    "    ['guitar', 4, 3000],\n",
    "    ['speaker', 1, 1500],\n",
    "    ['laptop', 3, 2000]\n",
    "]\n",
    "\n",
    "bag2 = 7 # the maximum weight for the bag\n",
    "item_list2 = [\n",
    "    ['pasta', 1, 700],\n",
    "    ['soups', 3, 300],\n",
    "    ['pork', 3, 700],\n",
    "    ['steak', 4, 1000],\n",
    "    ['lamb', 3, 1200],\n",
    "    ['Cheese', 1, 900],\n",
    "    ['Mushroom', 1, 800],\n",
    "]\n",
    "\n",
    "g = knapsack_dp(bag1, item_list1)\n",
    "display(g)\n",
    "print('---')\n",
    "g = knapsack_dp(bag2, item_list2)\n",
    "display(g)\n",
    "\n",
    "# output should be as below\n",
    "\n",
    "#        0    0    0 3000 \n",
    "#     1500 1500 1500 3000 \n",
    "#     1500 1500 2000 3500 \n",
    "# ---\n",
    "#     700  700  700  700  700  700  700 \n",
    "#     700  700  700 1000 1000 1000 1000 \n",
    "#     700  700  700 1400 1400 1400 1700 \n",
    "#     700  700  700 1400 1700 1700 1700 \n",
    "#     700  700 1200 1900 1900 1900 2600 \n",
    "#     900 1600 1600 2100 2800 2800 2800 \n",
    "#     900 1700 2400 2400 2900 3600 3600 "
   ]
  },
  {
   "cell_type": "code",
   "execution_count": null,
   "id": "397ab328-660a-4ed4-883b-670efa99fd67",
   "metadata": {
    "deletable": false,
    "editable": false,
    "nbgrader": {
     "cell_type": "code",
     "checksum": "f1691a731608a3efd32aff8a621cb447",
     "grade": true,
     "grade_id": "hiddentest3-1",
     "locked": true,
     "points": 1,
     "schema_version": 3,
     "solution": false,
     "task": false
    },
    "tags": []
   },
   "outputs": [],
   "source": [
    "# Testing Cell (Do NOT modify this cell)"
   ]
  },
  {
   "cell_type": "code",
   "execution_count": null,
   "id": "92d9b712-ea7b-474b-bf90-c5f2eaf140ff",
   "metadata": {
    "deletable": false,
    "editable": false,
    "nbgrader": {
     "cell_type": "code",
     "checksum": "2bd4559e0206c8a7acdf2cf267094620",
     "grade": true,
     "grade_id": "hiddentest3-2",
     "locked": true,
     "points": 1,
     "schema_version": 3,
     "solution": false,
     "task": false
    },
    "tags": []
   },
   "outputs": [],
   "source": [
    "# Testing Cell (Do NOT modify this cell)"
   ]
  },
  {
   "cell_type": "code",
   "execution_count": null,
   "id": "41831e5e-96af-43be-8764-fee92b91a41b",
   "metadata": {},
   "outputs": [],
   "source": []
  }
 ],
 "metadata": {
  "kernelspec": {
   "display_name": "Python 3 (ipykernel)",
   "language": "python",
   "name": "python3"
  },
  "language_info": {
   "codemirror_mode": {
    "name": "ipython",
    "version": 3
   },
   "file_extension": ".py",
   "mimetype": "text/x-python",
   "name": "python",
   "nbconvert_exporter": "python",
   "pygments_lexer": "ipython3",
   "version": "3.10.9"
  }
 },
 "nbformat": 4,
 "nbformat_minor": 5
}

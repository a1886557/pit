{
 "cells": [
  {
   "cell_type": "markdown",
   "id": "34774733",
   "metadata": {},
   "source": [
    "### Instructions:\n",
    "\n",
    "- You can attempt any number of questions and in any order.  \n",
    "- You may submit this workshop/practical for autograding as many times as you like to check on progress, however you will save time by checking and testing your own code before submitting.\n",
    "- Develop and check your answers in the spaces provided.\n",
    "- **Replace** the `raise NotImplementedError()` or `...` snippets with your solution to the question.\n",
    "- Do **NOT** remove any variables other provided markings already provided in the answer spaces.\n",
    "- Do **NOT** make any changes to this notebook outside of the spaces indicated.  \n",
    "  (If you do this, the submission system might not accept your work)\n",
    "\n",
    "### Submitting:\n",
    "\n",
    "1. Before you turn this problem in, make sure everything runs as expected by resetting this notebook.    \n",
    "   (You can do this from the menubar above by selecting `Kernel`&#8594;`Restart Kernel and Run All Cells...`)\n",
    "1. Don't forget to save your notebook after this step.\n",
    "1. Submit your .ipynb file to Gradescope via file upload or GitHub repository.\n",
    "1. You can submit as many times as needed.\n",
    "1. You **must** give your submitted file the **identical** filename to that which you downloaded without changing **any** aspects - spaces, underscores, capitalisation etc. If your operating system has changed the filename because you downloaded the file twice or more you **must** also fix this.  \n",
    "\n"
   ]
  },
  {
   "cell_type": "markdown",
   "id": "769b903b",
   "metadata": {},
   "source": [
    "---"
   ]
  },
  {
   "cell_type": "markdown",
   "id": "48feaae9-ea2f-48be-926f-aa2477df09a7",
   "metadata": {
    "deletable": false,
    "editable": false,
    "nbgrader": {
     "cell_type": "markdown",
     "checksum": "f6a6593cb8c0ec3c970fe05d578f399a",
     "grade": false,
     "grade_id": "title",
     "locked": true,
     "schema_version": 3,
     "solution": false,
     "task": false
    },
    "tags": []
   },
   "source": [
    "# W03 Prac - Hash"
   ]
  },
  {
   "cell_type": "markdown",
   "id": "80464bc8-3eec-4d28-a3a6-50cf9ac6297a",
   "metadata": {
    "deletable": false,
    "editable": false,
    "nbgrader": {
     "cell_type": "markdown",
     "checksum": "3d8de92240a76c41b24389d49340c046",
     "grade": false,
     "grade_id": "qu-1",
     "locked": true,
     "schema_version": 3,
     "solution": false,
     "task": false
    },
    "tags": []
   },
   "source": [
    "## Exercise 1 - Hash Functions (25%)\n",
    "\n",
    "In this week’s workshop, you have analysed different types of hash functions. Now, please implement and evaluate these hash functions. \n",
    "\n",
    "Please implement the following hash functions where `val` is the input and `n` is the size of the hash table. You can assume that the `val`  will be a lower-case string.\n",
    "1. `hash1(val, n)` : return ‘1’ for all input\n",
    "1. `hash2(val, n)` : Use the length of the string as the index\n",
    "1. `hash3(val, n)` : Use the first character as the index\n",
    "1. `hash4(val, n)` : Map every letter to a prime number, e.g. a = 1, b = 2, c = 3, d = 5…. For a string, the hash function is the sum of all the corresponding numbers modulo the size of the hash. For example, if the hash table is 10, and the string is ‘bad’, the index is `(3+2+7)%10 = 2`. Note that you should ignore the characters that is not in the prime number mapping below.\n",
    "\n",
    "In each case, ensure your hash function returns an integer."
   ]
  },
  {
   "cell_type": "code",
   "execution_count": 1,
   "id": "484c9b84-794e-40e1-ac80-761da4fe57d6",
   "metadata": {
    "deletable": false,
    "nbgrader": {
     "cell_type": "code",
     "checksum": "78fa482100ae6b506a970059c93a3df5",
     "grade": false,
     "grade_id": "ans-1",
     "locked": false,
     "schema_version": 3,
     "solution": true,
     "task": false
    },
    "tags": []
   },
   "outputs": [
    {
     "data": {
      "text/plain": [
       "6"
      ]
     },
     "execution_count": 1,
     "metadata": {},
     "output_type": "execute_result"
    }
   ],
   "source": [
    "def hash1(val, n):\n",
    "    # YOUR CODE HERE\n",
    "    return 1\n",
    "    \n",
    "def hash2(val, n):\n",
    "    # YOUR CODE HERE\n",
    "    return len(val)\n",
    "    \n",
    "def hash3(val, n):\n",
    "    d = {'a': 0, 'b': 1, 'c': 2, 'd': 3, 'e': 4, 'f': 5, 'g': 6, 'h': 7, 'i': 8, 'j': 9, 'k': 10, 'l': 11, 'm': 12, 'n': 13, 'o': 14, 'p': 15, 'q': 16, 'r': 17, 's': 18, 't': 19, 'u': 20, 'v': 21, 'w': 22, 'x': 23, 'y': 24, 'z': 25}\n",
    "    # YOUR CODE HERE\n",
    "    return d[val[0]]\n",
    "    \n",
    "def hash4(val, n):\n",
    "    d = {'a': 1, 'b': 2, 'c': 3, 'd': 5, 'e': 7, 'f': 11, 'g': 13, 'h': 17, 'i': 19, 'j': 23, 'k': 29, 'l': 31, 'm': 37, 'n': 41, 'o': 43, 'p': 47, 'q': 53, 'r': 59, 's': 61, 't': 67, 'u': 71, 'v': 73, 'w': 79, 'x': 83, 'y': 89, 'z': 97}    \n",
    "    # YOUR CODE HERE\n",
    "    total = 0\n",
    "    for char in val:\n",
    "        if char in d:\n",
    "            total += d[char]\n",
    "    return total % n\n",
    "    \n",
    "# =======================\n",
    "# EXAMPLE TESTING CASES\n",
    "hash1('adelaide', 10) # 1\n",
    "hash2('adelaide', 10) # 8\n",
    "hash3('adelaide', 10) # 0\n",
    "hash4('adelaide', 10) # 6    "
   ]
  },
  {
   "cell_type": "code",
   "execution_count": null,
   "id": "75e417cf-52e0-4de1-ae03-61fb49373a50",
   "metadata": {
    "deletable": false,
    "editable": false,
    "nbgrader": {
     "cell_type": "code",
     "checksum": "5d3383daeff88c496b08b2e1c9d2cda8",
     "grade": true,
     "grade_id": "hiddentest1-1",
     "locked": true,
     "points": 0.25,
     "schema_version": 3,
     "solution": false,
     "task": false
    },
    "tags": []
   },
   "outputs": [],
   "source": [
    "# Testing Cell (Do NOT modify this cell)"
   ]
  },
  {
   "cell_type": "code",
   "execution_count": null,
   "id": "d06b7e27-61bb-4f08-b842-0100f05cdf99",
   "metadata": {
    "deletable": false,
    "editable": false,
    "nbgrader": {
     "cell_type": "code",
     "checksum": "7e468adf131cf37f10b8fee444d8e5d2",
     "grade": true,
     "grade_id": "hiddentest1-2",
     "locked": true,
     "points": 0.25,
     "schema_version": 3,
     "solution": false,
     "task": false
    },
    "tags": []
   },
   "outputs": [],
   "source": [
    "# Testing Cell (Do NOT modify this cell)"
   ]
  },
  {
   "cell_type": "code",
   "execution_count": null,
   "id": "606c8ac8-d5ba-499e-b6de-1998a6c90d95",
   "metadata": {
    "deletable": false,
    "editable": false,
    "nbgrader": {
     "cell_type": "code",
     "checksum": "fdf372a0027135a031eeba3fc345c1ea",
     "grade": true,
     "grade_id": "hiddentest1-3",
     "locked": true,
     "points": 0.25,
     "schema_version": 3,
     "solution": false,
     "task": false
    },
    "tags": []
   },
   "outputs": [],
   "source": [
    "# Testing Cell (Do NOT modify this cell)"
   ]
  },
  {
   "cell_type": "code",
   "execution_count": null,
   "id": "b5d872f2-7e3b-4774-ad53-d66c3af3a6a4",
   "metadata": {
    "deletable": false,
    "editable": false,
    "nbgrader": {
     "cell_type": "code",
     "checksum": "d040e1716e4635f6d4f34e173df83aa1",
     "grade": true,
     "grade_id": "hiddentest1-4",
     "locked": true,
     "points": 0.25,
     "schema_version": 3,
     "solution": false,
     "task": false
    },
    "tags": []
   },
   "outputs": [],
   "source": [
    "# Testing Cell (Do NOT modify this cell)"
   ]
  },
  {
   "cell_type": "markdown",
   "id": "2838e57e-9b3a-49ea-833b-f87a6e8d65ed",
   "metadata": {
    "deletable": false,
    "editable": false,
    "nbgrader": {
     "cell_type": "markdown",
     "checksum": "ee411fdef303af9d28cca2f5b145c1cb",
     "grade": false,
     "grade_id": "qu-2",
     "locked": true,
     "schema_version": 3,
     "solution": false,
     "task": false
    },
    "tags": []
   },
   "source": [
    "## Exercise 2 - Hash Table (25%)\n",
    "\n",
    "In this exercise, you will implement your own HashTable class. You will use chaining when collisions happen. The functions to be completed are\n",
    "- `add_element(self, val)` function inserts an element into the hash table. Your code should first calculate the hash number of the input value `val`, then insert it into the table.\n",
    "- `search(self, val)` function search for the input value `val` in the hash table. If the value is already inside the table, it should return `True`, otherwise `False`.\n",
    "\n",
    "The provided test code first reads a list of books from a file `books.txt`, and then constructs a HashTable containing all books. You can think of it as a book management system in a library that keeps track of weather a book is inside the library."
   ]
  },
  {
   "cell_type": "code",
   "execution_count": 31,
   "id": "113fddc1-5400-4933-8dfb-71ed4d598dbe",
   "metadata": {
    "deletable": false,
    "nbgrader": {
     "cell_type": "code",
     "checksum": "b7e2f97aa3c0097012575bfa21d85075",
     "grade": true,
     "grade_id": "ans-2",
     "locked": false,
     "points": 0,
     "schema_version": 3,
     "solution": true,
     "task": false
    },
    "tags": []
   },
   "outputs": [
    {
     "name": "stdout",
     "output_type": "stream",
     "text": [
      "Number of collision is 90\n",
      "True\n",
      "True\n",
      "False\n",
      "False\n",
      "Number of collision is 34\n"
     ]
    }
   ],
   "source": [
    "size = 0\n",
    "table = []\n",
    "collision = 0\n",
    "\n",
    "def create_table(table_size):\n",
    "    global size, table, collision\n",
    "    size = table_size\n",
    "    table = [[] for i in range(table_size)] # allocate an empty 2D list\n",
    "    collision = 0 # number of collision\n",
    "\n",
    "def add_element(val):\n",
    "    #'''add an element into the hash table'''\n",
    "    # insert the book name into the hash table, and \n",
    "    # if collision happens, increase the value by 1\n",
    "    # ~ 4 lines of code\n",
    "    # INSERT YOUR CODE BELOW\n",
    "    # YOUR CODE HERE\n",
    "    global collision\n",
    "    index = hash4_b(val)\n",
    "    if val not in table[index]:\n",
    "        if len(table[index]) > 0:\n",
    "            collision += 1\n",
    "        table[index].append(val)\n",
    "        \n",
    "def search(val):\n",
    "    #'''search if the val is already in the hash table'''\n",
    "    # ~ 5 lines of code\n",
    "    # INSERT YOUR CODE BELOW\n",
    "    # YOUR CODE HERE\n",
    "    index = hash4_b(val)\n",
    "    if val in table[index]:\n",
    "        return True\n",
    "    else:\n",
    "        return False\n",
    "    \n",
    "def hash4_b(val):\n",
    "    d = {'a': 1, 'b': 2, 'c': 3, 'd': 5, 'e': 7, 'f': 11, 'g': 13, 'h': 17, 'i': 19, 'j': 23, 'k': 29, 'l': 31, 'm': 37, 'n': 41, 'o': 43, 'p': 47, 'q': 53, 'r': 59, 's': 61, 't': 67, 'u': 71, 'v': 73, 'w': 79, 'x': 83, 'y': 89, 'z': 97}\n",
    "    # Copy your hash4 function to here\n",
    "    # Note that you will need to handle exception \n",
    "    # i.e if the character does not have a primary mapping, map it to 0\n",
    "    # ~8 lines\n",
    "    # INSERT YOUR CODE BELOW\n",
    "    # YOUR CODE HERE\n",
    "    total = 0\n",
    "    for char in val:\n",
    "        if char in d:\n",
    "            total += d[char]\n",
    "        else:\n",
    "            total += 0\n",
    "    return total % size\n",
    "    \n",
    "# =======================\n",
    "# EXAMPLE TESTING CASES\n",
    "with open('books.txt', 'r') as f:\n",
    "    create_table(10)\n",
    "    for line in f:\n",
    "        line = line.strip()\n",
    "        add_element(line)\n",
    "print(f'Number of collision is {collision}') # should be 90\n",
    "print(search('a clockwork orange'))          # should return True\n",
    "print(search('1984'))                        # should return True\n",
    "print(search('game of throne'))              # should return False\n",
    "print(search('foundation'))                  # should return False\n",
    "\n",
    "with open('books.txt', 'r') as f:\n",
    "    create_table(100)\n",
    "    for line in f:\n",
    "        line = line.strip()\n",
    "        add_element(line)\n",
    "print(f'Number of collision is {collision}') # should be 34"
   ]
  },
  {
   "cell_type": "markdown",
   "id": "b29860d3-6e74-40d7-a69e-855b873825cb",
   "metadata": {
    "deletable": false,
    "editable": false,
    "nbgrader": {
     "cell_type": "markdown",
     "checksum": "cac1770295a6f52e7ff5706d98784649",
     "grade": false,
     "grade_id": "qu-3",
     "locked": true,
     "schema_version": 3,
     "solution": false,
     "task": false
    },
    "tags": []
   },
   "source": [
    "## Exercise 3 - Duplicate (25%)\n",
    "\n",
    "Given an integer array nums, return true if any value appears at least twice in the array, and return false if every element is distinct.\n",
    "\n",
    "### Example 1:\n",
    "\n",
    "Input: nums = `[1,2,3,1]` <br>\n",
    "Output: true\n",
    "### Example 2:\n",
    "\n",
    "Input: nums = `[1,2,3,4]` <br>\n",
    "Output: false\n",
    "### Example 3:\n",
    "\n",
    "Input: nums = `[1,1,1,3,3,4,3,2,4,2]` <br>\n",
    "Output: true\n"
   ]
  },
  {
   "cell_type": "code",
   "execution_count": 3,
   "id": "6dc76a6b-07c8-4418-b090-e438d6608559",
   "metadata": {
    "deletable": false,
    "nbgrader": {
     "cell_type": "code",
     "checksum": "0033b3106930ae507ccba4458e956b9d",
     "grade": false,
     "grade_id": "ans-3",
     "locked": false,
     "schema_version": 3,
     "solution": true,
     "task": false
    },
    "tags": []
   },
   "outputs": [
    {
     "name": "stdout",
     "output_type": "stream",
     "text": [
      "True\n",
      "False\n",
      "True\n"
     ]
    }
   ],
   "source": [
    "def check_dup(li):\n",
    "    # Enter your code below\n",
    "    # ~ 7 lines\n",
    "    # YOUR CODE HERE\n",
    "    counts = {}\n",
    "    for x in li:\n",
    "        if x in counts:\n",
    "            counts[x] += 1\n",
    "            if counts[x] > 1:\n",
    "                return True\n",
    "        else:\n",
    "            counts[x] = 1\n",
    "    return False\n",
    "        \n",
    "# =======================\n",
    "# EXAMPLE TESTING CASES\n",
    "b = check_dup([1, 3, 1, 2])\n",
    "print(b) # True\n",
    "b = check_dup([1, 2, 3, 4])\n",
    "print(b) # False\n",
    "b = check_dup([1,1,1,3,3,4,3,2,4,2])\n",
    "print(b) # True"
   ]
  },
  {
   "cell_type": "code",
   "execution_count": 9,
   "id": "2e43c102-30c8-4df8-83c7-5acfe38d994f",
   "metadata": {
    "deletable": false,
    "editable": false,
    "nbgrader": {
     "cell_type": "code",
     "checksum": "c54f203ffd219e23344a3fe84b4f6011",
     "grade": true,
     "grade_id": "hiddentest3-1",
     "locked": true,
     "points": 0.33,
     "schema_version": 3,
     "solution": false,
     "task": false
    },
    "tags": []
   },
   "outputs": [],
   "source": [
    "# Testing Cell (Do NOT modify this cell)"
   ]
  },
  {
   "cell_type": "code",
   "execution_count": null,
   "id": "acd42422-07df-4451-b74d-8c0fb1066990",
   "metadata": {
    "deletable": false,
    "editable": false,
    "nbgrader": {
     "cell_type": "code",
     "checksum": "6a24559d35b356d8d67fb396c13c63a3",
     "grade": true,
     "grade_id": "hiddentest3-2",
     "locked": true,
     "points": 0.33,
     "schema_version": 3,
     "solution": false,
     "task": false
    },
    "tags": []
   },
   "outputs": [],
   "source": [
    "# Testing Cell (Do NOT modify this cell)"
   ]
  },
  {
   "cell_type": "code",
   "execution_count": null,
   "id": "948a9169-9558-44bc-8a0e-b34d351c8743",
   "metadata": {
    "deletable": false,
    "editable": false,
    "nbgrader": {
     "cell_type": "code",
     "checksum": "4dc354dbae772f24eb1b7a450e24df74",
     "grade": true,
     "grade_id": "hiddentest3-3",
     "locked": true,
     "points": 0.34,
     "schema_version": 3,
     "solution": false,
     "task": false
    },
    "tags": []
   },
   "outputs": [],
   "source": [
    "# Testing Cell (Do NOT modify this cell)"
   ]
  },
  {
   "cell_type": "markdown",
   "id": "4bbb775b-72a3-42f0-8fa1-f32d9ff0a04e",
   "metadata": {
    "deletable": false,
    "editable": false,
    "nbgrader": {
     "cell_type": "markdown",
     "checksum": "16124c6ace78d376a1a13a616a7ada78",
     "grade": false,
     "grade_id": "qu-4",
     "locked": true,
     "schema_version": 3,
     "solution": false,
     "task": false
    },
    "tags": []
   },
   "source": [
    "## Exercise 4 - Two Sum (25%)\n",
    "\n",
    "Given an array of **integers** nums and an **integer** target, return indices of the two numbers such that they add up to target. \n",
    "\n",
    "You may assume that each input would have **exactly one solution**, and you may not use the same element twice. You can return the answer in any order.\n",
    "\n",
    "**Note:** the most intuitive solution is $O(n^2)$ that checks every pair of the numbers. However, you can use hash table to solve the question in linear time! You will get full mark by using either of the approach. \n",
    "\n",
    "### Example 1:\n",
    "\n",
    "Input: nums = `[2,7,11,15]`, target = `9` <br>\n",
    "Output: `[0,1]` <br>\n",
    "Explanation: Because `nums[0] + nums[1] == 9`, we return `[0, 1]`.\n",
    "\n",
    "### Example 2:\n",
    "\n",
    "Input: nums = `[3,2,4]`, target = `6` <br>\n",
    "Output: `[1,2]`\n",
    "\n",
    "### Example 3:\n",
    "\n",
    "Input: nums = `[3,3]`, target = `6` <br>\n",
    "Output: `[0,1]`\n"
   ]
  },
  {
   "cell_type": "code",
   "execution_count": 32,
   "id": "5f066f42-d3bc-4dd7-b08d-57118e6f2725",
   "metadata": {
    "deletable": false,
    "nbgrader": {
     "cell_type": "code",
     "checksum": "14900384d38ef27fa2738ab2fb42010d",
     "grade": false,
     "grade_id": "ans-4",
     "locked": false,
     "schema_version": 3,
     "solution": true,
     "task": false
    },
    "tags": []
   },
   "outputs": [
    {
     "name": "stdout",
     "output_type": "stream",
     "text": [
      "(3, 1)\n",
      "(2, 1)\n",
      "None\n"
     ]
    }
   ],
   "source": [
    "def two_sum(li, target):\n",
    "    # If using dictionary, ~ 9 lines\n",
    "    # INSERT YOUR CODE BELOW\n",
    "    # YOUR CODE HERE\n",
    "    num_indicies = {}\n",
    "    for i in range(len(li)):\n",
    "        num = li[i]\n",
    "        other_num = target - num\n",
    "        if other_num in num_indicies:\n",
    "            return (i, num_indicies[other_num])\n",
    "        else:\n",
    "            num_indicies[num] = i\n",
    "    return None\n",
    "    \n",
    "# =======================\n",
    "# EXAMPLE TESTING CASES\n",
    "ans = two_sum([2, 7, 11, 15], 22)\n",
    "print(ans) #(3, 1)\n",
    "ans = two_sum([2, 7, 11, 15], 18)\n",
    "print(ans) #(2, 1)\n",
    "ans = two_sum([2, 7, 11, 15], 10)\n",
    "print(ans) #None"
   ]
  },
  {
   "cell_type": "code",
   "execution_count": null,
   "id": "3ee85789-6d59-43d2-824f-d172bba4925d",
   "metadata": {
    "deletable": false,
    "editable": false,
    "nbgrader": {
     "cell_type": "code",
     "checksum": "148df44c21fcae5fe1a9199024a8a520",
     "grade": true,
     "grade_id": "hiddentest4-1",
     "locked": true,
     "points": 0.5,
     "schema_version": 3,
     "solution": false,
     "task": false
    },
    "tags": []
   },
   "outputs": [],
   "source": [
    "# Testing Cell (Do NOT modify this cell)"
   ]
  },
  {
   "cell_type": "code",
   "execution_count": null,
   "id": "010d605f-4726-4ef8-9f9a-8750019d2c8f",
   "metadata": {
    "deletable": false,
    "editable": false,
    "nbgrader": {
     "cell_type": "code",
     "checksum": "305c8beffc05943e0282b0ef2d9737cd",
     "grade": true,
     "grade_id": "hiddentest4-2",
     "locked": true,
     "points": 0.5,
     "schema_version": 3,
     "solution": false,
     "task": false
    },
    "tags": []
   },
   "outputs": [],
   "source": [
    "# Testing Cell (Do NOT modify this cell)"
   ]
  }
 ],
 "metadata": {
  "kernelspec": {
   "display_name": "Python 3 (ipykernel)",
   "language": "python",
   "name": "python3"
  },
  "language_info": {
   "codemirror_mode": {
    "name": "ipython",
    "version": 3
   },
   "file_extension": ".py",
   "mimetype": "text/x-python",
   "name": "python",
   "nbconvert_exporter": "python",
   "pygments_lexer": "ipython3",
   "version": "3.10.9"
  }
 },
 "nbformat": 4,
 "nbformat_minor": 5
}
